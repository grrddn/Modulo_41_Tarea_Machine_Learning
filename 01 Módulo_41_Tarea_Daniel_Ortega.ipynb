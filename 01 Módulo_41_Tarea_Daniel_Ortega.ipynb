{
 "cells": [
  {
   "cell_type": "markdown",
   "id": "cc5aeb6d",
   "metadata": {},
   "source": [
    "# **TAREA MÓDULO 41 - Daniel Ortega**"
   ]
  },
  {
   "cell_type": "markdown",
   "id": "0eb8b74b",
   "metadata": {},
   "source": [
    "Generar un archivo tipo Notebook de Python que contenga:\n",
    "- Importación del archivo de uso.\n",
    "- Exploración básica EDA usando pandas.\n",
    "- Validar si existen nulos o o información vacia, tipo de datos, describe, nunique.\n",
    "- Correlación y heatmap, visualización de distribución sns.distplot.\n",
    "- Eliminar variables que tengan alta correlación y/o no sean necesarias.\n",
    "- Reportes por grupos: estado civil, educación, trabajo - cuántos registros.\n",
    "- Análisis univariado y bivariado basado en la predicción \n",
    "- Dividir dataset entre training y test (70/30)"
   ]
  },
  {
   "cell_type": "markdown",
   "id": "abd51716",
   "metadata": {},
   "source": [
    "_____\n",
    "\n",
    "## Importación del archivo de uso"
   ]
  },
  {
   "cell_type": "code",
   "execution_count": 1,
   "id": "78089f4a",
   "metadata": {},
   "outputs": [],
   "source": [
    "import pandas as pd\n",
    "import seaborn as sns\n",
    "import numpy as np\n",
    "import os\n",
    "import sys"
   ]
  },
  {
   "cell_type": "code",
   "execution_count": null,
   "id": "05c4d3f7",
   "metadata": {},
   "outputs": [],
   "source": [
    "df = pd.read_csv('')"
   ]
  }
 ],
 "metadata": {
  "kernelspec": {
   "display_name": "base",
   "language": "python",
   "name": "python3"
  },
  "language_info": {
   "codemirror_mode": {
    "name": "ipython",
    "version": 3
   },
   "file_extension": ".py",
   "mimetype": "text/x-python",
   "name": "python",
   "nbconvert_exporter": "python",
   "pygments_lexer": "ipython3",
   "version": "3.12.7"
  }
 },
 "nbformat": 4,
 "nbformat_minor": 5
}
